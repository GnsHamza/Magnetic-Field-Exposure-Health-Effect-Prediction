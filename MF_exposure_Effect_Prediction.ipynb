{
 "cells": [
  {
   "cell_type": "markdown",
   "id": "010e1f4a",
   "metadata": {},
   "source": [
    "# Prévoir l'effet d'une quelconque exposition à un champ magnétique.\n",
    "\n",
    "### Projet en Data Science."
   ]
  },
  {
   "cell_type": "markdown",
   "id": "da559eb4",
   "metadata": {},
   "source": [
    "***"
   ]
  },
  {
   "cell_type": "markdown",
   "id": "12177d99",
   "metadata": {},
   "source": [
    "-  Importation des packages nécessaires."
   ]
  },
  {
   "cell_type": "code",
   "execution_count": 2,
   "id": "d01871f7",
   "metadata": {},
   "outputs": [],
   "source": [
    "import pandas as pd\n",
    "import matplotlib.pyplot as plt\n",
    "import seaborn as sb\n",
    "\n",
    "from sklearn.preprocessing import LabelEncoder\n",
    "from sklearn.tree import DecisionTreeClassifier\n",
    "from sklearn.model_selection import train_test_split\n",
    "from sklearn.metrics import accuracy_score\n",
    "\n",
    "import pickle"
   ]
  },
  {
   "cell_type": "markdown",
   "id": "81c3f919",
   "metadata": {},
   "source": [
    "# Ouvrir/ importer la base de données."
   ]
  },
  {
   "cell_type": "code",
   "execution_count": 4,
   "id": "51628799",
   "metadata": {
    "scrolled": false
   },
   "outputs": [
    {
     "data": {
      "text/html": [
       "<div>\n",
       "<style scoped>\n",
       "    .dataframe tbody tr th:only-of-type {\n",
       "        vertical-align: middle;\n",
       "    }\n",
       "\n",
       "    .dataframe tbody tr th {\n",
       "        vertical-align: top;\n",
       "    }\n",
       "\n",
       "    .dataframe thead th {\n",
       "        text-align: right;\n",
       "    }\n",
       "</style>\n",
       "<table border=\"1\" class=\"dataframe\">\n",
       "  <thead>\n",
       "    <tr style=\"text-align: right;\">\n",
       "      <th></th>\n",
       "      <th>Fréquence</th>\n",
       "      <th>Induction_magnétique</th>\n",
       "      <th>Durée_exposition</th>\n",
       "      <th>Type_exposition</th>\n",
       "      <th>Distance</th>\n",
       "      <th>Âge</th>\n",
       "      <th>Sexe</th>\n",
       "      <th>Effet</th>\n",
       "    </tr>\n",
       "  </thead>\n",
       "  <tbody>\n",
       "    <tr>\n",
       "      <th>0</th>\n",
       "      <td>EBF</td>\n",
       "      <td>30.000</td>\n",
       "      <td>longue</td>\n",
       "      <td>chronique</td>\n",
       "      <td>intermédiaire</td>\n",
       "      <td>âgé</td>\n",
       "      <td>féminin</td>\n",
       "      <td>Biologique</td>\n",
       "    </tr>\n",
       "    <tr>\n",
       "      <th>1</th>\n",
       "      <td>EBF</td>\n",
       "      <td>0.450</td>\n",
       "      <td>longue</td>\n",
       "      <td>chronique</td>\n",
       "      <td>grande</td>\n",
       "      <td>jeune</td>\n",
       "      <td>masculin</td>\n",
       "      <td>Biologique</td>\n",
       "    </tr>\n",
       "    <tr>\n",
       "      <th>2</th>\n",
       "      <td>Hyperfréquences</td>\n",
       "      <td>1.112</td>\n",
       "      <td>modérée</td>\n",
       "      <td>aiguë</td>\n",
       "      <td>petite</td>\n",
       "      <td>jeune</td>\n",
       "      <td>féminin</td>\n",
       "      <td>Pas d’effet</td>\n",
       "    </tr>\n",
       "    <tr>\n",
       "      <th>3</th>\n",
       "      <td>EBF</td>\n",
       "      <td>0.070</td>\n",
       "      <td>longue</td>\n",
       "      <td>chronique</td>\n",
       "      <td>grande</td>\n",
       "      <td>jeune</td>\n",
       "      <td>masculin</td>\n",
       "      <td>Biologique</td>\n",
       "    </tr>\n",
       "    <tr>\n",
       "      <th>4</th>\n",
       "      <td>EBF</td>\n",
       "      <td>1250.000</td>\n",
       "      <td>longue</td>\n",
       "      <td>chronique</td>\n",
       "      <td>intermédiaire</td>\n",
       "      <td>adulte</td>\n",
       "      <td>masculin</td>\n",
       "      <td>Biologique</td>\n",
       "    </tr>\n",
       "    <tr>\n",
       "      <th>...</th>\n",
       "      <td>...</td>\n",
       "      <td>...</td>\n",
       "      <td>...</td>\n",
       "      <td>...</td>\n",
       "      <td>...</td>\n",
       "      <td>...</td>\n",
       "      <td>...</td>\n",
       "      <td>...</td>\n",
       "    </tr>\n",
       "    <tr>\n",
       "      <th>459</th>\n",
       "      <td>Hyperfréquences</td>\n",
       "      <td>1500000.000</td>\n",
       "      <td>modérée</td>\n",
       "      <td>aiguë</td>\n",
       "      <td>intermédiaire</td>\n",
       "      <td>adulte</td>\n",
       "      <td>masculin</td>\n",
       "      <td>Pas d’effet</td>\n",
       "    </tr>\n",
       "    <tr>\n",
       "      <th>460</th>\n",
       "      <td>EBF</td>\n",
       "      <td>0.700</td>\n",
       "      <td>longue</td>\n",
       "      <td>chronique</td>\n",
       "      <td>grande</td>\n",
       "      <td>adulte</td>\n",
       "      <td>féminin</td>\n",
       "      <td>Biologique</td>\n",
       "    </tr>\n",
       "    <tr>\n",
       "      <th>461</th>\n",
       "      <td>EBF</td>\n",
       "      <td>0.300</td>\n",
       "      <td>longue</td>\n",
       "      <td>chronique</td>\n",
       "      <td>intermédiaire</td>\n",
       "      <td>adulte</td>\n",
       "      <td>masculin</td>\n",
       "      <td>Pathologique</td>\n",
       "    </tr>\n",
       "    <tr>\n",
       "      <th>462</th>\n",
       "      <td>Hyperfréquences</td>\n",
       "      <td>1.124</td>\n",
       "      <td>modérée</td>\n",
       "      <td>aiguë</td>\n",
       "      <td>petite</td>\n",
       "      <td>âgé</td>\n",
       "      <td>féminin</td>\n",
       "      <td>Pas d’effet</td>\n",
       "    </tr>\n",
       "    <tr>\n",
       "      <th>463</th>\n",
       "      <td>EBF</td>\n",
       "      <td>1.200</td>\n",
       "      <td>longue</td>\n",
       "      <td>chronique</td>\n",
       "      <td>intermédiaire</td>\n",
       "      <td>adulte</td>\n",
       "      <td>masculin</td>\n",
       "      <td>Pas d’effet</td>\n",
       "    </tr>\n",
       "  </tbody>\n",
       "</table>\n",
       "<p>464 rows × 8 columns</p>\n",
       "</div>"
      ],
      "text/plain": [
       "           Fréquence  Induction_magnétique Durée_exposition Type_exposition  \\\n",
       "0                EBF                30.000           longue       chronique   \n",
       "1                EBF                 0.450           longue       chronique   \n",
       "2    Hyperfréquences                 1.112          modérée           aiguë   \n",
       "3                EBF                 0.070           longue       chronique   \n",
       "4                EBF              1250.000           longue       chronique   \n",
       "..               ...                   ...              ...             ...   \n",
       "459  Hyperfréquences           1500000.000          modérée           aiguë   \n",
       "460              EBF                 0.700           longue       chronique   \n",
       "461              EBF                 0.300           longue       chronique   \n",
       "462  Hyperfréquences                 1.124          modérée           aiguë   \n",
       "463              EBF                 1.200           longue       chronique   \n",
       "\n",
       "          Distance     Âge      Sexe         Effet  \n",
       "0    intermédiaire     âgé   féminin    Biologique  \n",
       "1           grande   jeune  masculin    Biologique  \n",
       "2           petite   jeune   féminin   Pas d’effet  \n",
       "3           grande   jeune  masculin    Biologique  \n",
       "4    intermédiaire  adulte  masculin    Biologique  \n",
       "..             ...     ...       ...           ...  \n",
       "459  intermédiaire  adulte  masculin   Pas d’effet  \n",
       "460         grande  adulte   féminin    Biologique  \n",
       "461  intermédiaire  adulte  masculin  Pathologique  \n",
       "462         petite     âgé   féminin   Pas d’effet  \n",
       "463  intermédiaire  adulte  masculin   Pas d’effet  \n",
       "\n",
       "[464 rows x 8 columns]"
      ]
     },
     "execution_count": 4,
     "metadata": {},
     "output_type": "execute_result"
    }
   ],
   "source": [
    "donnees = pd.read_csv('MF exposure - data.csv')\n",
    "donnees"
   ]
  },
  {
   "cell_type": "code",
   "execution_count": 5,
   "id": "8758a9eb",
   "metadata": {
    "scrolled": false
   },
   "outputs": [
    {
     "data": {
      "text/html": [
       "<div>\n",
       "<style scoped>\n",
       "    .dataframe tbody tr th:only-of-type {\n",
       "        vertical-align: middle;\n",
       "    }\n",
       "\n",
       "    .dataframe tbody tr th {\n",
       "        vertical-align: top;\n",
       "    }\n",
       "\n",
       "    .dataframe thead th {\n",
       "        text-align: right;\n",
       "    }\n",
       "</style>\n",
       "<table border=\"1\" class=\"dataframe\">\n",
       "  <thead>\n",
       "    <tr style=\"text-align: right;\">\n",
       "      <th></th>\n",
       "      <th>Fréquence</th>\n",
       "      <th>Induction_magnétique</th>\n",
       "      <th>Durée_exposition</th>\n",
       "      <th>Type_exposition</th>\n",
       "      <th>Distance</th>\n",
       "      <th>Âge</th>\n",
       "      <th>Sexe</th>\n",
       "      <th>Effet</th>\n",
       "    </tr>\n",
       "  </thead>\n",
       "  <tbody>\n",
       "    <tr>\n",
       "      <th>0</th>\n",
       "      <td>EBF</td>\n",
       "      <td>30.000</td>\n",
       "      <td>longue</td>\n",
       "      <td>chronique</td>\n",
       "      <td>intermédiaire</td>\n",
       "      <td>âgé</td>\n",
       "      <td>féminin</td>\n",
       "      <td>Biologique</td>\n",
       "    </tr>\n",
       "    <tr>\n",
       "      <th>1</th>\n",
       "      <td>EBF</td>\n",
       "      <td>0.450</td>\n",
       "      <td>longue</td>\n",
       "      <td>chronique</td>\n",
       "      <td>grande</td>\n",
       "      <td>jeune</td>\n",
       "      <td>masculin</td>\n",
       "      <td>Biologique</td>\n",
       "    </tr>\n",
       "    <tr>\n",
       "      <th>2</th>\n",
       "      <td>Hyperfréquences</td>\n",
       "      <td>1.112</td>\n",
       "      <td>modérée</td>\n",
       "      <td>aiguë</td>\n",
       "      <td>petite</td>\n",
       "      <td>jeune</td>\n",
       "      <td>féminin</td>\n",
       "      <td>Pas d’effet</td>\n",
       "    </tr>\n",
       "    <tr>\n",
       "      <th>3</th>\n",
       "      <td>EBF</td>\n",
       "      <td>0.070</td>\n",
       "      <td>longue</td>\n",
       "      <td>chronique</td>\n",
       "      <td>grande</td>\n",
       "      <td>jeune</td>\n",
       "      <td>masculin</td>\n",
       "      <td>Biologique</td>\n",
       "    </tr>\n",
       "    <tr>\n",
       "      <th>4</th>\n",
       "      <td>EBF</td>\n",
       "      <td>1250.000</td>\n",
       "      <td>longue</td>\n",
       "      <td>chronique</td>\n",
       "      <td>intermédiaire</td>\n",
       "      <td>adulte</td>\n",
       "      <td>masculin</td>\n",
       "      <td>Biologique</td>\n",
       "    </tr>\n",
       "    <tr>\n",
       "      <th>...</th>\n",
       "      <td>...</td>\n",
       "      <td>...</td>\n",
       "      <td>...</td>\n",
       "      <td>...</td>\n",
       "      <td>...</td>\n",
       "      <td>...</td>\n",
       "      <td>...</td>\n",
       "      <td>...</td>\n",
       "    </tr>\n",
       "    <tr>\n",
       "      <th>459</th>\n",
       "      <td>Hyperfréquences</td>\n",
       "      <td>1500000.000</td>\n",
       "      <td>modérée</td>\n",
       "      <td>aiguë</td>\n",
       "      <td>intermédiaire</td>\n",
       "      <td>adulte</td>\n",
       "      <td>masculin</td>\n",
       "      <td>Pas d’effet</td>\n",
       "    </tr>\n",
       "    <tr>\n",
       "      <th>460</th>\n",
       "      <td>EBF</td>\n",
       "      <td>0.700</td>\n",
       "      <td>longue</td>\n",
       "      <td>chronique</td>\n",
       "      <td>grande</td>\n",
       "      <td>adulte</td>\n",
       "      <td>féminin</td>\n",
       "      <td>Biologique</td>\n",
       "    </tr>\n",
       "    <tr>\n",
       "      <th>461</th>\n",
       "      <td>EBF</td>\n",
       "      <td>0.300</td>\n",
       "      <td>longue</td>\n",
       "      <td>chronique</td>\n",
       "      <td>intermédiaire</td>\n",
       "      <td>adulte</td>\n",
       "      <td>masculin</td>\n",
       "      <td>Pathologique</td>\n",
       "    </tr>\n",
       "    <tr>\n",
       "      <th>462</th>\n",
       "      <td>Hyperfréquences</td>\n",
       "      <td>1.124</td>\n",
       "      <td>modérée</td>\n",
       "      <td>aiguë</td>\n",
       "      <td>petite</td>\n",
       "      <td>âgé</td>\n",
       "      <td>féminin</td>\n",
       "      <td>Pas d’effet</td>\n",
       "    </tr>\n",
       "    <tr>\n",
       "      <th>463</th>\n",
       "      <td>EBF</td>\n",
       "      <td>1.200</td>\n",
       "      <td>longue</td>\n",
       "      <td>chronique</td>\n",
       "      <td>intermédiaire</td>\n",
       "      <td>adulte</td>\n",
       "      <td>masculin</td>\n",
       "      <td>Pas d’effet</td>\n",
       "    </tr>\n",
       "  </tbody>\n",
       "</table>\n",
       "<p>464 rows × 8 columns</p>\n",
       "</div>"
      ],
      "text/plain": [
       "           Fréquence  Induction_magnétique Durée_exposition Type_exposition  \\\n",
       "0                EBF                30.000           longue       chronique   \n",
       "1                EBF                 0.450           longue       chronique   \n",
       "2    Hyperfréquences                 1.112          modérée           aiguë   \n",
       "3                EBF                 0.070           longue       chronique   \n",
       "4                EBF              1250.000           longue       chronique   \n",
       "..               ...                   ...              ...             ...   \n",
       "459  Hyperfréquences           1500000.000          modérée           aiguë   \n",
       "460              EBF                 0.700           longue       chronique   \n",
       "461              EBF                 0.300           longue       chronique   \n",
       "462  Hyperfréquences                 1.124          modérée           aiguë   \n",
       "463              EBF                 1.200           longue       chronique   \n",
       "\n",
       "          Distance     Âge      Sexe         Effet  \n",
       "0    intermédiaire     âgé   féminin    Biologique  \n",
       "1           grande   jeune  masculin    Biologique  \n",
       "2           petite   jeune   féminin   Pas d’effet  \n",
       "3           grande   jeune  masculin    Biologique  \n",
       "4    intermédiaire  adulte  masculin    Biologique  \n",
       "..             ...     ...       ...           ...  \n",
       "459  intermédiaire  adulte  masculin   Pas d’effet  \n",
       "460         grande  adulte   féminin    Biologique  \n",
       "461  intermédiaire  adulte  masculin  Pathologique  \n",
       "462         petite     âgé   féminin   Pas d’effet  \n",
       "463  intermédiaire  adulte  masculin   Pas d’effet  \n",
       "\n",
       "[464 rows x 8 columns]"
      ]
     },
     "execution_count": 5,
     "metadata": {},
     "output_type": "execute_result"
    }
   ],
   "source": [
    "# Création d'une copy de la base de données.\n",
    "data = donnees.copy()\n",
    "data"
   ]
  },
  {
   "cell_type": "markdown",
   "id": "8bbcc580",
   "metadata": {},
   "source": [
    "***"
   ]
  },
  {
   "cell_type": "markdown",
   "id": "969b2de3",
   "metadata": {},
   "source": [
    "# Nettoyer la Data "
   ]
  },
  {
   "cell_type": "code",
   "execution_count": 7,
   "id": "5f45b7cd",
   "metadata": {},
   "outputs": [
    {
     "name": "stdout",
     "output_type": "stream",
     "text": [
      "<class 'pandas.core.frame.DataFrame'>\n",
      "RangeIndex: 464 entries, 0 to 463\n",
      "Data columns (total 8 columns):\n",
      " #   Column                Non-Null Count  Dtype  \n",
      "---  ------                --------------  -----  \n",
      " 0   Fréquence             464 non-null    object \n",
      " 1   Induction_magnétique  464 non-null    float64\n",
      " 2   Durée_exposition      464 non-null    object \n",
      " 3   Type_exposition       464 non-null    object \n",
      " 4   Distance              464 non-null    object \n",
      " 5   Âge                   464 non-null    object \n",
      " 6   Sexe                  464 non-null    object \n",
      " 7   Effet                 464 non-null    object \n",
      "dtypes: float64(1), object(7)\n",
      "memory usage: 29.1+ KB\n"
     ]
    }
   ],
   "source": [
    "data.info()"
   ]
  },
  {
   "cell_type": "code",
   "execution_count": 8,
   "id": "d2918a82",
   "metadata": {},
   "outputs": [
    {
     "data": {
      "text/plain": [
       "Fréquence               0\n",
       "Induction_magnétique    0\n",
       "Durée_exposition        0\n",
       "Type_exposition         0\n",
       "Distance                0\n",
       "Âge                     0\n",
       "Sexe                    0\n",
       "Effet                   0\n",
       "dtype: int64"
      ]
     },
     "execution_count": 8,
     "metadata": {},
     "output_type": "execute_result"
    }
   ],
   "source": [
    "# Vérification de la présence/abscence des valeurs manquantes \n",
    "data.isnull().sum()"
   ]
  },
  {
   "cell_type": "code",
   "execution_count": 9,
   "id": "b6fbaa7b",
   "metadata": {},
   "outputs": [
    {
     "name": "stdout",
     "output_type": "stream",
     "text": [
      "Dimension initiale de la base de données :  (464, 8)\n",
      "après nettoyage, la dimension devient :  (460, 8)\n"
     ]
    }
   ],
   "source": [
    "# suppression des lignes dupliquées (s'elles existent)\n",
    "print(\"Dimension initiale de la base de données : \", data.shape)\n",
    "data.drop_duplicates(inplace=True)\n",
    "print(\"après nettoyage, la dimension devient : \", data.shape)"
   ]
  },
  {
   "cell_type": "markdown",
   "id": "084224ca",
   "metadata": {},
   "source": [
    "# Explorer la Data"
   ]
  },
  {
   "cell_type": "markdown",
   "id": "016cce5e",
   "metadata": {},
   "source": [
    "###  Analyse descriptive univariée."
   ]
  },
  {
   "cell_type": "markdown",
   "id": "cf082b10",
   "metadata": {},
   "source": [
    "### Variable target"
   ]
  },
  {
   "cell_type": "code",
   "execution_count": 10,
   "id": "c36fe34f",
   "metadata": {},
   "outputs": [
    {
     "data": {
      "text/plain": [
       "Index(['Fréquence', 'Induction_magnétique', 'Durée_exposition',\n",
       "       'Type_exposition', 'Distance', 'Âge', 'Sexe', 'Effet'],\n",
       "      dtype='object')"
      ]
     },
     "execution_count": 10,
     "metadata": {},
     "output_type": "execute_result"
    }
   ],
   "source": [
    "data.columns"
   ]
  },
  {
   "cell_type": "code",
   "execution_count": 11,
   "id": "3886abf0",
   "metadata": {},
   "outputs": [
    {
     "data": {
      "text/plain": [
       "Biologique      171\n",
       "Pathologique    153\n",
       "Pas d’effet     136\n",
       "Name: Effet, dtype: int64"
      ]
     },
     "execution_count": 11,
     "metadata": {},
     "output_type": "execute_result"
    }
   ],
   "source": [
    "# Exploration de la variable 'Effet': la variable target\n",
    "data[\"Effet\"].value_counts()"
   ]
  },
  {
   "cell_type": "code",
   "execution_count": 12,
   "id": "f04356da",
   "metadata": {},
   "outputs": [
    {
     "data": {
      "text/plain": [
       "Biologique      37.173913\n",
       "Pathologique    33.260870\n",
       "Pas d’effet     29.565217\n",
       "Name: Effet, dtype: float64"
      ]
     },
     "execution_count": 12,
     "metadata": {},
     "output_type": "execute_result"
    }
   ],
   "source": [
    "# En termes de pourcentage\n",
    "data[\"Effet\"].value_counts(normalize=True)*100"
   ]
  },
  {
   "cell_type": "code",
   "execution_count": 13,
   "id": "1f581cfb",
   "metadata": {},
   "outputs": [
    {
     "data": {
      "text/plain": [
       "<AxesSubplot:title={'center':'Effet'}>"
      ]
     },
     "execution_count": 13,
     "metadata": {},
     "output_type": "execute_result"
    },
    {
     "data": {
      "image/png": "[encoded data removed]",
      "text/plain": [
       "<Figure size 432x288 with 1 Axes>"
      ]
     },
     "metadata": {
      "needs_background": "light"
     },
     "output_type": "display_data"
    }
   ],
   "source": [
    "# Visualisation graphique \n",
    "data[\"Effet\"].value_counts(normalize=True).plot.bar(title='Effet')"
   ]
  },
  {
   "cell_type": "markdown",
   "id": "cd70ceda",
   "metadata": {},
   "source": [
    "### Variables catégoriques"
   ]
  },
  {
   "cell_type": "markdown",
   "id": "cec201bc",
   "metadata": {},
   "source": [
    "-  Variable 'Fréquence'"
   ]
  },
  {
   "cell_type": "code",
   "execution_count": 14,
   "id": "240b87ec",
   "metadata": {},
   "outputs": [
    {
     "data": {
      "text/plain": [
       "EBF                300\n",
       "Hyperfréquences    160\n",
       "Name: Fréquence, dtype: int64"
      ]
     },
     "execution_count": 14,
     "metadata": {},
     "output_type": "execute_result"
    }
   ],
   "source": [
    "data['Fréquence'].value_counts()"
   ]
  },
  {
   "cell_type": "code",
   "execution_count": 15,
   "id": "46718ef2",
   "metadata": {},
   "outputs": [
    {
     "data": {
      "text/plain": [
       "EBF                65.217391\n",
       "Hyperfréquences    34.782609\n",
       "Name: Fréquence, dtype: float64"
      ]
     },
     "execution_count": 15,
     "metadata": {},
     "output_type": "execute_result"
    }
   ],
   "source": [
    "data[\"Fréquence\"].value_counts(normalize=True)*100"
   ]
  },
  {
   "cell_type": "code",
   "execution_count": 16,
   "id": "747d0f1f",
   "metadata": {},
   "outputs": [
    {
     "data": {
      "text/plain": [
       "<AxesSubplot:title={'center':'Fréquence'}>"
      ]
     },
     "execution_count": 16,
     "metadata": {},
     "output_type": "execute_result"
    },
    {
     "data": {
      "image/png": "[encoded data removed]",
      "text/plain": [
       "<Figure size 432x288 with 1 Axes>"
      ]
     },
     "metadata": {
      "needs_background": "light"
     },
     "output_type": "display_data"
    }
   ],
   "source": [
    "data[\"Fréquence\"].value_counts(normalize=True).plot.bar(title='Fréquence')"
   ]
  },
  {
   "cell_type": "markdown",
   "id": "27d3dabc",
   "metadata": {},
   "source": [
    "-  Variable 'Sexe'"
   ]
  },
  {
   "cell_type": "code",
   "execution_count": 17,
   "id": "fe0e8177",
   "metadata": {},
   "outputs": [
    {
     "data": {
      "text/plain": [
       "féminin     236\n",
       "masculin    224\n",
       "Name: Sexe, dtype: int64"
      ]
     },
     "execution_count": 17,
     "metadata": {},
     "output_type": "execute_result"
    }
   ],
   "source": [
    "data['Sexe'].value_counts()"
   ]
  },
  {
   "cell_type": "code",
   "execution_count": 18,
   "id": "d59896a1",
   "metadata": {},
   "outputs": [
    {
     "data": {
      "text/plain": [
       "féminin     51.304348\n",
       "masculin    48.695652\n",
       "Name: Sexe, dtype: float64"
      ]
     },
     "execution_count": 18,
     "metadata": {},
     "output_type": "execute_result"
    }
   ],
   "source": [
    "data[\"Sexe\"].value_counts(normalize=True)*100"
   ]
  },
  {
   "cell_type": "code",
   "execution_count": 19,
   "id": "c0dfa8d1",
   "metadata": {},
   "outputs": [
    {
     "data": {
      "text/plain": [
       "<AxesSubplot:title={'center':'Sexe'}>"
      ]
     },
     "execution_count": 19,
     "metadata": {},
     "output_type": "execute_result"
    },
    {
     "data": {
      "image/png": "[encoded data removed]",
      "text/plain": [
       "<Figure size 432x288 with 1 Axes>"
      ]
     },
     "metadata": {
      "needs_background": "light"
     },
     "output_type": "display_data"
    }
   ],
   "source": [
    "data[\"Sexe\"].value_counts(normalize=True).plot.bar(title='Sexe')"
   ]
  },
  {
   "cell_type": "markdown",
   "id": "1844db77",
   "metadata": {},
   "source": [
    "#### On peut faire de même pour l'analyse des autres variables catégoriques."
   ]
  },
  {
   "cell_type": "markdown",
   "id": "ede121d5",
   "metadata": {},
   "source": [
    "### variable numérique (Induction_magnétique)"
   ]
  },
  {
   "cell_type": "code",
   "execution_count": 20,
   "id": "d1a0dbbc",
   "metadata": {
    "scrolled": false
   },
   "outputs": [
    {
     "data": {
      "text/plain": [
       "count    4.600000e+02\n",
       "mean     1.001330e+05\n",
       "std      7.176394e+05\n",
       "min      1.000000e-02\n",
       "25%      2.297500e-01\n",
       "50%      1.000000e+00\n",
       "75%      3.000000e+01\n",
       "max      7.000000e+06\n",
       "Name: Induction_magnétique, dtype: float64"
      ]
     },
     "execution_count": 20,
     "metadata": {},
     "output_type": "execute_result"
    }
   ],
   "source": [
    "data[\"Induction_magnétique\"].describe()"
   ]
  },
  {
   "cell_type": "markdown",
   "id": "1c22edb7",
   "metadata": {},
   "source": [
    "### Visualisation de la distribution des valeurs de l'induction magnétique"
   ]
  },
  {
   "cell_type": "code",
   "execution_count": 21,
   "id": "cd1133d9",
   "metadata": {},
   "outputs": [
    {
     "name": "stdout",
     "output_type": "stream",
     "text": [
      "Dimension de la data initiale :  (460, 8)\n",
      "Dimension de la data utilisée pour la visualisation en question :  (421, 8)\n"
     ]
    }
   ],
   "source": [
    "Grande_IndMg = data.loc[(data[\"Induction_magnétique\"] >= 500)]\n",
    "visualized_df = data.drop(Grande_IndMg.index)\n",
    "\n",
    "print('Dimension de la data initiale : ', data.shape)\n",
    "print('Dimension de la data utilisée pour la visualisation en question : ', visualized_df.shape)"
   ]
  },
  {
   "cell_type": "code",
   "execution_count": 22,
   "id": "f6858d37",
   "metadata": {},
   "outputs": [
    {
     "name": "stderr",
     "output_type": "stream",
     "text": [
      "C:\\Users\\DELL\\AppData\\Local\\Programs\\Python\\Python310\\lib\\site-packages\\seaborn\\distributions.py:2619: FutureWarning: `distplot` is a deprecated function and will be removed in a future version. Please adapt your code to use either `displot` (a figure-level function with similar flexibility) or `histplot` (an axes-level function for histograms).\n",
      "  warnings.warn(msg, FutureWarning)\n"
     ]
    },
    {
     "data": {
      "image/png": "[encoded data removed]",
      "text/plain": [
       "<Figure size 720x360 with 2 Axes>"
      ]
     },
     "metadata": {
      "needs_background": "light"
     },
     "output_type": "display_data"
    }
   ],
   "source": [
    "plt.figure()\n",
    "\n",
    "plt.subplot(1, 2, 1)\n",
    "sb.distplot(visualized_df[\"Induction_magnétique\"])\n",
    "           \n",
    "plt.subplot(1, 2, 2)\n",
    "visualized_df[\"Induction_magnétique\"].plot.box(figsize=(10, 5))\n",
    "\n",
    "plt.suptitle(\"distribution des valeurs de l'induction magnétique inférieures à 500 μT\")\n",
    "plt.show()"
   ]
  },
  {
   "cell_type": "markdown",
   "id": "23ed62aa",
   "metadata": {},
   "source": [
    "***"
   ]
  },
  {
   "cell_type": "markdown",
   "id": "ba41483d",
   "metadata": {},
   "source": [
    "## Analyse descriptive bivariée"
   ]
  },
  {
   "cell_type": "markdown",
   "id": "a6adbf2c",
   "metadata": {},
   "source": [
    "-  Variables catégorique"
   ]
  },
  {
   "cell_type": "code",
   "execution_count": 22,
   "id": "f8724db8",
   "metadata": {},
   "outputs": [
    {
     "data": {
      "image/png": "[encoded data removed]",
      "text/plain": [
       "<Figure size 1584x936 with 6 Axes>"
      ]
     },
     "metadata": {
      "needs_background": "light"
     },
     "output_type": "display_data"
    }
   ],
   "source": [
    "variables_categorielles = [\"Fréquence\", \"Durée_exposition\", \"Type_exposition\", \"Distance\", \"Âge\", \"Sexe\"]\n",
    "fig, axes = plt.subplots(2, 3, figsize=(22, 13))\n",
    "\n",
    "for index, colonne in enumerate(variables_categorielles):\n",
    "    row, col=index // 2, index % 2\n",
    "    sb.countplot(x=colonne, data=data, hue=\"Effet\", ax=axes[col, row]) "
   ]
  },
  {
   "cell_type": "markdown",
   "id": "108ad4fb",
   "metadata": {},
   "source": [
    "***"
   ]
  },
  {
   "cell_type": "markdown",
   "id": "6fe93656",
   "metadata": {},
   "source": [
    "# Création du modèle"
   ]
  },
  {
   "cell_type": "markdown",
   "id": "57625997",
   "metadata": {},
   "source": [
    "### Encodage des caractéristiques catégorielles"
   ]
  },
  {
   "cell_type": "code",
   "execution_count": 24,
   "id": "1dcfcd1a",
   "metadata": {
    "scrolled": false
   },
   "outputs": [
    {
     "data": {
      "text/html": [
       "<div>\n",
       "<style scoped>\n",
       "    .dataframe tbody tr th:only-of-type {\n",
       "        vertical-align: middle;\n",
       "    }\n",
       "\n",
       "    .dataframe tbody tr th {\n",
       "        vertical-align: top;\n",
       "    }\n",
       "\n",
       "    .dataframe thead th {\n",
       "        text-align: right;\n",
       "    }\n",
       "</style>\n",
       "<table border=\"1\" class=\"dataframe\">\n",
       "  <thead>\n",
       "    <tr style=\"text-align: right;\">\n",
       "      <th></th>\n",
       "      <th>Fréquence_Hyperfréquences</th>\n",
       "      <th>Durée_exposition_longue</th>\n",
       "      <th>Durée_exposition_modérée</th>\n",
       "      <th>Type_exposition_chronique</th>\n",
       "      <th>Distance_intermédiaire</th>\n",
       "      <th>Distance_petite</th>\n",
       "      <th>Âge_jeune</th>\n",
       "      <th>Âge_âgé</th>\n",
       "      <th>Sexe_masculin</th>\n",
       "    </tr>\n",
       "  </thead>\n",
       "  <tbody>\n",
       "    <tr>\n",
       "      <th>0</th>\n",
       "      <td>0</td>\n",
       "      <td>1</td>\n",
       "      <td>0</td>\n",
       "      <td>1</td>\n",
       "      <td>1</td>\n",
       "      <td>0</td>\n",
       "      <td>0</td>\n",
       "      <td>1</td>\n",
       "      <td>0</td>\n",
       "    </tr>\n",
       "    <tr>\n",
       "      <th>1</th>\n",
       "      <td>0</td>\n",
       "      <td>1</td>\n",
       "      <td>0</td>\n",
       "      <td>1</td>\n",
       "      <td>0</td>\n",
       "      <td>0</td>\n",
       "      <td>1</td>\n",
       "      <td>0</td>\n",
       "      <td>1</td>\n",
       "    </tr>\n",
       "    <tr>\n",
       "      <th>2</th>\n",
       "      <td>1</td>\n",
       "      <td>0</td>\n",
       "      <td>1</td>\n",
       "      <td>0</td>\n",
       "      <td>0</td>\n",
       "      <td>1</td>\n",
       "      <td>1</td>\n",
       "      <td>0</td>\n",
       "      <td>0</td>\n",
       "    </tr>\n",
       "    <tr>\n",
       "      <th>3</th>\n",
       "      <td>0</td>\n",
       "      <td>1</td>\n",
       "      <td>0</td>\n",
       "      <td>1</td>\n",
       "      <td>0</td>\n",
       "      <td>0</td>\n",
       "      <td>1</td>\n",
       "      <td>0</td>\n",
       "      <td>1</td>\n",
       "    </tr>\n",
       "    <tr>\n",
       "      <th>4</th>\n",
       "      <td>0</td>\n",
       "      <td>1</td>\n",
       "      <td>0</td>\n",
       "      <td>1</td>\n",
       "      <td>1</td>\n",
       "      <td>0</td>\n",
       "      <td>0</td>\n",
       "      <td>0</td>\n",
       "      <td>1</td>\n",
       "    </tr>\n",
       "    <tr>\n",
       "      <th>...</th>\n",
       "      <td>...</td>\n",
       "      <td>...</td>\n",
       "      <td>...</td>\n",
       "      <td>...</td>\n",
       "      <td>...</td>\n",
       "      <td>...</td>\n",
       "      <td>...</td>\n",
       "      <td>...</td>\n",
       "      <td>...</td>\n",
       "    </tr>\n",
       "    <tr>\n",
       "      <th>459</th>\n",
       "      <td>1</td>\n",
       "      <td>0</td>\n",
       "      <td>1</td>\n",
       "      <td>0</td>\n",
       "      <td>1</td>\n",
       "      <td>0</td>\n",
       "      <td>0</td>\n",
       "      <td>0</td>\n",
       "      <td>1</td>\n",
       "    </tr>\n",
       "    <tr>\n",
       "      <th>460</th>\n",
       "      <td>0</td>\n",
       "      <td>1</td>\n",
       "      <td>0</td>\n",
       "      <td>1</td>\n",
       "      <td>0</td>\n",
       "      <td>0</td>\n",
       "      <td>0</td>\n",
       "      <td>0</td>\n",
       "      <td>0</td>\n",
       "    </tr>\n",
       "    <tr>\n",
       "      <th>461</th>\n",
       "      <td>0</td>\n",
       "      <td>1</td>\n",
       "      <td>0</td>\n",
       "      <td>1</td>\n",
       "      <td>1</td>\n",
       "      <td>0</td>\n",
       "      <td>0</td>\n",
       "      <td>0</td>\n",
       "      <td>1</td>\n",
       "    </tr>\n",
       "    <tr>\n",
       "      <th>462</th>\n",
       "      <td>1</td>\n",
       "      <td>0</td>\n",
       "      <td>1</td>\n",
       "      <td>0</td>\n",
       "      <td>0</td>\n",
       "      <td>1</td>\n",
       "      <td>0</td>\n",
       "      <td>1</td>\n",
       "      <td>0</td>\n",
       "    </tr>\n",
       "    <tr>\n",
       "      <th>463</th>\n",
       "      <td>0</td>\n",
       "      <td>1</td>\n",
       "      <td>0</td>\n",
       "      <td>1</td>\n",
       "      <td>1</td>\n",
       "      <td>0</td>\n",
       "      <td>0</td>\n",
       "      <td>0</td>\n",
       "      <td>1</td>\n",
       "    </tr>\n",
       "  </tbody>\n",
       "</table>\n",
       "<p>460 rows × 9 columns</p>\n",
       "</div>"
      ],
      "text/plain": [
       "     Fréquence_Hyperfréquences  Durée_exposition_longue  \\\n",
       "0                            0                        1   \n",
       "1                            0                        1   \n",
       "2                            1                        0   \n",
       "3                            0                        1   \n",
       "4                            0                        1   \n",
       "..                         ...                      ...   \n",
       "459                          1                        0   \n",
       "460                          0                        1   \n",
       "461                          0                        1   \n",
       "462                          1                        0   \n",
       "463                          0                        1   \n",
       "\n",
       "     Durée_exposition_modérée  Type_exposition_chronique  \\\n",
       "0                           0                          1   \n",
       "1                           0                          1   \n",
       "2                           1                          0   \n",
       "3                           0                          1   \n",
       "4                           0                          1   \n",
       "..                        ...                        ...   \n",
       "459                         1                          0   \n",
       "460                         0                          1   \n",
       "461                         0                          1   \n",
       "462                         1                          0   \n",
       "463                         0                          1   \n",
       "\n",
       "     Distance_intermédiaire  Distance_petite  Âge_jeune  Âge_âgé  \\\n",
       "0                         1                0          0        1   \n",
       "1                         0                0          1        0   \n",
       "2                         0                1          1        0   \n",
       "3                         0                0          1        0   \n",
       "4                         1                0          0        0   \n",
       "..                      ...              ...        ...      ...   \n",
       "459                       1                0          0        0   \n",
       "460                       0                0          0        0   \n",
       "461                       1                0          0        0   \n",
       "462                       0                1          0        1   \n",
       "463                       1                0          0        0   \n",
       "\n",
       "     Sexe_masculin  \n",
       "0                0  \n",
       "1                1  \n",
       "2                0  \n",
       "3                1  \n",
       "4                1  \n",
       "..             ...  \n",
       "459              1  \n",
       "460              0  \n",
       "461              1  \n",
       "462              0  \n",
       "463              1  \n",
       "\n",
       "[460 rows x 9 columns]"
      ]
     },
     "execution_count": 24,
     "metadata": {},
     "output_type": "execute_result"
    }
   ],
   "source": [
    "variables_categorielles = [\"Fréquence\", \"Durée_exposition\", \"Type_exposition\", \"Distance\", \"Âge\", \"Sexe\"]\n",
    "data_cat=pd.get_dummies(data[variables_categorielles], drop_first=True)\n",
    "data_cat"
   ]
  },
  {
   "cell_type": "markdown",
   "id": "b440dd3a",
   "metadata": {},
   "source": [
    "### Reconstruction de la Data (encodée)"
   ]
  },
  {
   "cell_type": "code",
   "execution_count": 25,
   "id": "6c2b699c",
   "metadata": {
    "scrolled": false
   },
   "outputs": [
    {
     "data": {
      "text/html": [
       "<div>\n",
       "<style scoped>\n",
       "    .dataframe tbody tr th:only-of-type {\n",
       "        vertical-align: middle;\n",
       "    }\n",
       "\n",
       "    .dataframe tbody tr th {\n",
       "        vertical-align: top;\n",
       "    }\n",
       "\n",
       "    .dataframe thead th {\n",
       "        text-align: right;\n",
       "    }\n",
       "</style>\n",
       "<table border=\"1\" class=\"dataframe\">\n",
       "  <thead>\n",
       "    <tr style=\"text-align: right;\">\n",
       "      <th></th>\n",
       "      <th>Fréquence_Hyperfréquences</th>\n",
       "      <th>Durée_exposition_longue</th>\n",
       "      <th>Durée_exposition_modérée</th>\n",
       "      <th>Type_exposition_chronique</th>\n",
       "      <th>Distance_intermédiaire</th>\n",
       "      <th>Distance_petite</th>\n",
       "      <th>Âge_jeune</th>\n",
       "      <th>Âge_âgé</th>\n",
       "      <th>Sexe_masculin</th>\n",
       "      <th>Induction_magnétique</th>\n",
       "    </tr>\n",
       "  </thead>\n",
       "  <tbody>\n",
       "    <tr>\n",
       "      <th>0</th>\n",
       "      <td>0</td>\n",
       "      <td>1</td>\n",
       "      <td>0</td>\n",
       "      <td>1</td>\n",
       "      <td>1</td>\n",
       "      <td>0</td>\n",
       "      <td>0</td>\n",
       "      <td>1</td>\n",
       "      <td>0</td>\n",
       "      <td>30.000</td>\n",
       "    </tr>\n",
       "    <tr>\n",
       "      <th>1</th>\n",
       "      <td>0</td>\n",
       "      <td>1</td>\n",
       "      <td>0</td>\n",
       "      <td>1</td>\n",
       "      <td>0</td>\n",
       "      <td>0</td>\n",
       "      <td>1</td>\n",
       "      <td>0</td>\n",
       "      <td>1</td>\n",
       "      <td>0.450</td>\n",
       "    </tr>\n",
       "    <tr>\n",
       "      <th>2</th>\n",
       "      <td>1</td>\n",
       "      <td>0</td>\n",
       "      <td>1</td>\n",
       "      <td>0</td>\n",
       "      <td>0</td>\n",
       "      <td>1</td>\n",
       "      <td>1</td>\n",
       "      <td>0</td>\n",
       "      <td>0</td>\n",
       "      <td>1.112</td>\n",
       "    </tr>\n",
       "    <tr>\n",
       "      <th>3</th>\n",
       "      <td>0</td>\n",
       "      <td>1</td>\n",
       "      <td>0</td>\n",
       "      <td>1</td>\n",
       "      <td>0</td>\n",
       "      <td>0</td>\n",
       "      <td>1</td>\n",
       "      <td>0</td>\n",
       "      <td>1</td>\n",
       "      <td>0.070</td>\n",
       "    </tr>\n",
       "    <tr>\n",
       "      <th>4</th>\n",
       "      <td>0</td>\n",
       "      <td>1</td>\n",
       "      <td>0</td>\n",
       "      <td>1</td>\n",
       "      <td>1</td>\n",
       "      <td>0</td>\n",
       "      <td>0</td>\n",
       "      <td>0</td>\n",
       "      <td>1</td>\n",
       "      <td>1250.000</td>\n",
       "    </tr>\n",
       "    <tr>\n",
       "      <th>...</th>\n",
       "      <td>...</td>\n",
       "      <td>...</td>\n",
       "      <td>...</td>\n",
       "      <td>...</td>\n",
       "      <td>...</td>\n",
       "      <td>...</td>\n",
       "      <td>...</td>\n",
       "      <td>...</td>\n",
       "      <td>...</td>\n",
       "      <td>...</td>\n",
       "    </tr>\n",
       "    <tr>\n",
       "      <th>459</th>\n",
       "      <td>1</td>\n",
       "      <td>0</td>\n",
       "      <td>1</td>\n",
       "      <td>0</td>\n",
       "      <td>1</td>\n",
       "      <td>0</td>\n",
       "      <td>0</td>\n",
       "      <td>0</td>\n",
       "      <td>1</td>\n",
       "      <td>1500000.000</td>\n",
       "    </tr>\n",
       "    <tr>\n",
       "      <th>460</th>\n",
       "      <td>0</td>\n",
       "      <td>1</td>\n",
       "      <td>0</td>\n",
       "      <td>1</td>\n",
       "      <td>0</td>\n",
       "      <td>0</td>\n",
       "      <td>0</td>\n",
       "      <td>0</td>\n",
       "      <td>0</td>\n",
       "      <td>0.700</td>\n",
       "    </tr>\n",
       "    <tr>\n",
       "      <th>461</th>\n",
       "      <td>0</td>\n",
       "      <td>1</td>\n",
       "      <td>0</td>\n",
       "      <td>1</td>\n",
       "      <td>1</td>\n",
       "      <td>0</td>\n",
       "      <td>0</td>\n",
       "      <td>0</td>\n",
       "      <td>1</td>\n",
       "      <td>0.300</td>\n",
       "    </tr>\n",
       "    <tr>\n",
       "      <th>462</th>\n",
       "      <td>1</td>\n",
       "      <td>0</td>\n",
       "      <td>1</td>\n",
       "      <td>0</td>\n",
       "      <td>0</td>\n",
       "      <td>1</td>\n",
       "      <td>0</td>\n",
       "      <td>1</td>\n",
       "      <td>0</td>\n",
       "      <td>1.124</td>\n",
       "    </tr>\n",
       "    <tr>\n",
       "      <th>463</th>\n",
       "      <td>0</td>\n",
       "      <td>1</td>\n",
       "      <td>0</td>\n",
       "      <td>1</td>\n",
       "      <td>1</td>\n",
       "      <td>0</td>\n",
       "      <td>0</td>\n",
       "      <td>0</td>\n",
       "      <td>1</td>\n",
       "      <td>1.200</td>\n",
       "    </tr>\n",
       "  </tbody>\n",
       "</table>\n",
       "<p>460 rows × 10 columns</p>\n",
       "</div>"
      ],
      "text/plain": [
       "     Fréquence_Hyperfréquences  Durée_exposition_longue  \\\n",
       "0                            0                        1   \n",
       "1                            0                        1   \n",
       "2                            1                        0   \n",
       "3                            0                        1   \n",
       "4                            0                        1   \n",
       "..                         ...                      ...   \n",
       "459                          1                        0   \n",
       "460                          0                        1   \n",
       "461                          0                        1   \n",
       "462                          1                        0   \n",
       "463                          0                        1   \n",
       "\n",
       "     Durée_exposition_modérée  Type_exposition_chronique  \\\n",
       "0                           0                          1   \n",
       "1                           0                          1   \n",
       "2                           1                          0   \n",
       "3                           0                          1   \n",
       "4                           0                          1   \n",
       "..                        ...                        ...   \n",
       "459                         1                          0   \n",
       "460                         0                          1   \n",
       "461                         0                          1   \n",
       "462                         1                          0   \n",
       "463                         0                          1   \n",
       "\n",
       "     Distance_intermédiaire  Distance_petite  Âge_jeune  Âge_âgé  \\\n",
       "0                         1                0          0        1   \n",
       "1                         0                0          1        0   \n",
       "2                         0                1          1        0   \n",
       "3                         0                0          1        0   \n",
       "4                         1                0          0        0   \n",
       "..                      ...              ...        ...      ...   \n",
       "459                       1                0          0        0   \n",
       "460                       0                0          0        0   \n",
       "461                       1                0          0        0   \n",
       "462                       0                1          0        1   \n",
       "463                       1                0          0        0   \n",
       "\n",
       "     Sexe_masculin  Induction_magnétique  \n",
       "0                0                30.000  \n",
       "1                1                 0.450  \n",
       "2                0                 1.112  \n",
       "3                1                 0.070  \n",
       "4                1              1250.000  \n",
       "..             ...                   ...  \n",
       "459              1           1500000.000  \n",
       "460              0                 0.700  \n",
       "461              1                 0.300  \n",
       "462              0                 1.124  \n",
       "463              1                 1.200  \n",
       "\n",
       "[460 rows x 10 columns]"
      ]
     },
     "execution_count": 25,
     "metadata": {},
     "output_type": "execute_result"
    }
   ],
   "source": [
    "dataCatEnc_dummies = pd.concat([data_cat, data[\"Induction_magnétique\"]], axis=1)\n",
    "dataCatEnc_dummies"
   ]
  },
  {
   "cell_type": "markdown",
   "id": "831ca7e2",
   "metadata": {},
   "source": [
    "### Séparation de l'entrée et de la sortie"
   ]
  },
  {
   "cell_type": "code",
   "execution_count": 26,
   "id": "2b2929fb",
   "metadata": {},
   "outputs": [],
   "source": [
    "X = dataCatEnc_dummies\n",
    "y = data['Effet']"
   ]
  },
  {
   "cell_type": "markdown",
   "id": "8682f4bd",
   "metadata": {},
   "source": [
    "### Division de la data en ensembles d'entraînement et de test"
   ]
  },
  {
   "cell_type": "code",
   "execution_count": 28,
   "id": "0da70d1a",
   "metadata": {},
   "outputs": [],
   "source": [
    "X_train, X_test, y_train, y_test = train_test_split(X, y, test_size=0.2, random_state=42)"
   ]
  },
  {
   "cell_type": "markdown",
   "id": "bb0c8bd2",
   "metadata": {},
   "source": [
    "### Création d'une instance pour le model - Entrainement du modèle"
   ]
  },
  {
   "cell_type": "code",
   "execution_count": 29,
   "id": "68591f6e",
   "metadata": {},
   "outputs": [
    {
     "data": {
      "text/plain": [
       "DecisionTreeClassifier()"
      ]
     },
     "execution_count": 29,
     "metadata": {},
     "output_type": "execute_result"
    }
   ],
   "source": [
    "model = DecisionTreeClassifier()\n",
    "model.fit(X_train, y_train)"
   ]
  },
  {
   "cell_type": "code",
   "execution_count": 30,
   "id": "052ed4f0",
   "metadata": {},
   "outputs": [
    {
     "data": {
      "text/plain": [
       "0.75"
      ]
     },
     "execution_count": 30,
     "metadata": {},
     "output_type": "execute_result"
    }
   ],
   "source": [
    "# tester le model - évaluer sa précision\n",
    "prediction = model.predict(X_test)\n",
    "score = accuracy_score(y_test, prediction)\n",
    "score"
   ]
  },
  {
   "cell_type": "markdown",
   "id": "3204e65e",
   "metadata": {},
   "source": [
    "# Faire une prédiction"
   ]
  },
  {
   "cell_type": "markdown",
   "id": "776116c6",
   "metadata": {},
   "source": [
    "## Prévoir l'effet de l'exposition de ma mère"
   ]
  },
  {
   "cell_type": "code",
   "execution_count": 31,
   "id": "5516055e",
   "metadata": {},
   "outputs": [
    {
     "data": {
      "text/plain": [
       "Index(['Fréquence_Hyperfréquences', 'Durée_exposition_longue',\n",
       "       'Durée_exposition_modérée', 'Type_exposition_chronique',\n",
       "       'Distance_intermédiaire', 'Distance_petite', 'Âge_jeune', 'Âge_âgé',\n",
       "       'Sexe_masculin', 'Induction_magnétique'],\n",
       "      dtype='object')"
      ]
     },
     "execution_count": 31,
     "metadata": {},
     "output_type": "execute_result"
    }
   ],
   "source": [
    "X.columns"
   ]
  },
  {
   "cell_type": "code",
   "execution_count": 33,
   "id": "e9c792c2",
   "metadata": {
    "scrolled": true
   },
   "outputs": [
    {
     "name": "stderr",
     "output_type": "stream",
     "text": [
      "C:\\Users\\DELL\\AppData\\Local\\Programs\\Python\\Python310\\lib\\site-packages\\sklearn\\base.py:450: UserWarning: X does not have valid feature names, but DecisionTreeClassifier was fitted with feature names\n",
      "  warnings.warn(\n"
     ]
    },
    {
     "data": {
      "text/plain": [
       "array(['Pas d’effet'], dtype=object)"
      ]
     },
     "execution_count": 33,
     "metadata": {},
     "output_type": "execute_result"
    }
   ],
   "source": [
    "tester_exposition = [[1, 1, 0, 0, 0, 1, 0, 0, 0, 0.226]]\n",
    "model.predict(tester_exposition)"
   ]
  },
  {
   "cell_type": "markdown",
   "id": "14af4a62",
   "metadata": {},
   "source": [
    "# Enregistrer le modèle"
   ]
  },
  {
   "cell_type": "code",
   "execution_count": 32,
   "id": "ed9f8640",
   "metadata": {},
   "outputs": [],
   "source": [
    "pickle.dump(model, open('prévoir_exposition.pkl', 'wb'))"
   ]
  }
 ],
 "metadata": {
  "kernelspec": {
   "display_name": "Python 3 (ipykernel)",
   "language": "python",
   "name": "python3"
  },
  "language_info": {
   "codemirror_mode": {
    "name": "ipython",
    "version": 3
   },
   "file_extension": ".py",
   "mimetype": "text/x-python",
   "name": "python",
   "nbconvert_exporter": "python",
   "pygments_lexer": "ipython3",
   "version": "3.10.4"
  }
 },
 "nbformat": 4,
 "nbformat_minor": 5
}
